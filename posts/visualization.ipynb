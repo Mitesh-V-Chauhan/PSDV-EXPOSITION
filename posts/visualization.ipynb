{
 "cells": [
  {
   "cell_type": "raw",
   "metadata": {},
   "source": [
    "# Altair: The interactive data visualization tool"
   ]
  },
  {
   "cell_type": "raw",
   "metadata": {},
   "source": [
    "### **Introduction**"
   ]
  },
  {
   "cell_type": "raw",
   "metadata": {},
   "source": [
    "The Altair library was released in August 2016 by Jake VanderPlas, Brian Granger, and other contributors from the Jupyter and PyData communities. It is a declarative statistical visualization library for Python, meaning that we don't need to code how to do something instead we need to just tell what to do, altair will automatically figure out how to do it. Altair library creates beautiful interactive large variety of graphs like simple bar chart, histograms, line plot, scatter plot, to more complex graphs like heatmaps, geographical maps, etc. \n",
    "\n",
    "**So, why do we need it? We can use the simply pandas and matplotlib libraries for creating these graphs.**\n",
    "\n",
    "Altair library makes the graph interactive which we can't get from the above mentioned libraries or we can get them but it would require to code alot, with features like tooltips, zooming in and out of plots, selections with opacity, color, size (hover effect), dynamic update, also altair allows us to export the file into html files.\n"
   ]
  },
  {
   "cell_type": "raw",
   "metadata": {},
   "source": [
    "### **Installation & Setup:**"
   ]
  },
  {
   "cell_type": "raw",
   "metadata": {},
   "source": [
    "Altair can be simply installed by running the following command on the terminal:"
   ]
  },
  {
   "cell_type": "raw",
   "metadata": {},
   "source": [
    "#### **Step 1:**"
   ]
  },
  {
   "cell_type": "raw",
   "metadata": {},
   "source": [
    "**Using pip:**"
   ]
  },
  {
   "cell_type": "markdown",
   "metadata": {},
   "source": [
    "pip install altair "
   ]
  },
  {
   "cell_type": "raw",
   "metadata": {},
   "source": [
    "**Using condas**"
   ]
  },
  {
   "cell_type": "markdown",
   "metadata": {},
   "source": [
    "conda install -c conda-forge altair"
   ]
  },
  {
   "cell_type": "raw",
   "metadata": {},
   "source": [
    "#### **Step 2:**"
   ]
  },
  {
   "cell_type": "raw",
   "metadata": {},
   "source": [
    "Install a Renderer (For Jupyter, Colab, or VS Code), which is required for displaying charts, plots, etc."
   ]
  },
  {
   "cell_type": "raw",
   "metadata": {},
   "source": [
    "**For Jupyter Notebook**"
   ]
  },
  {
   "cell_type": "markdown",
   "metadata": {},
   "source": [
    "pip install vega_datasets notebook vega"
   ]
  },
  {
   "cell_type": "markdown",
   "metadata": {},
   "source": [
    "import altair as alt\n",
    "\n",
    "alt.renderers.enable('notebook')"
   ]
  },
  {
   "cell_type": "raw",
   "metadata": {},
   "source": [
    "**For VS Code**"
   ]
  },
  {
   "cell_type": "markdown",
   "metadata": {},
   "source": [
    "import altair as alt\n",
    "\n",
    "alt.renderers.enable('mimetype')"
   ]
  },
  {
   "cell_type": "raw",
   "metadata": {},
   "source": [
    "**For Google Colab**"
   ]
  },
  {
   "cell_type": "markdown",
   "metadata": {},
   "source": [
    "import altair as alt\n",
    "\n",
    "alt.renderers.enable('colab')"
   ]
  },
  {
   "cell_type": "markdown",
   "metadata": {},
   "source": []
  }
 ],
 "metadata": {
  "kernelspec": {
   "display_name": "Python 3",
   "language": "python",
   "name": "python3"
  },
  "language_info": {
   "codemirror_mode": {
    "name": "ipython",
    "version": 3
   },
   "file_extension": ".py",
   "mimetype": "text/x-python",
   "name": "python",
   "nbconvert_exporter": "python",
   "pygments_lexer": "ipython3",
   "version": "3.10.0"
  }
 },
 "nbformat": 4,
 "nbformat_minor": 2
}
